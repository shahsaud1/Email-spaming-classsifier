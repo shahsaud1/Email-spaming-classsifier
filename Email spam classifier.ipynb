{
 "cells": [
  {
   "cell_type": "markdown",
   "id": "14a43069",
   "metadata": {},
   "source": [
    "# Import Libraries"
   ]
  },
  {
   "cell_type": "code",
   "execution_count": 10,
   "id": "7a2be719",
   "metadata": {},
   "outputs": [],
   "source": [
    "import pandas as pd\n",
    "import numpy as np\n",
    "\n",
    "from sklearn.preprocessing import StandardScaler\n",
    "from sklearn.feature_extraction.text import CountVectorizer\n",
    "\n",
    "from sklearn.model_selection import train_test_split\n",
    "\n",
    "from sklearn.neighbors import KNeighborsClassifier\n",
    "\n",
    "from sklearn.metrics import classification_report, accuracy_score, confusion_matrix\n",
    "\n",
    "import matplotlib.pyplot as plt\n",
    "import seaborn as sns"
   ]
  },
  {
   "cell_type": "markdown",
   "id": "7ff42a63",
   "metadata": {},
   "source": [
    "# Data"
   ]
  },
  {
   "cell_type": "code",
   "execution_count": 11,
   "id": "15288c04",
   "metadata": {},
   "outputs": [
    {
     "data": {
      "text/html": [
       "<div>\n",
       "<style scoped>\n",
       "    .dataframe tbody tr th:only-of-type {\n",
       "        vertical-align: middle;\n",
       "    }\n",
       "\n",
       "    .dataframe tbody tr th {\n",
       "        vertical-align: top;\n",
       "    }\n",
       "\n",
       "    .dataframe thead th {\n",
       "        text-align: right;\n",
       "    }\n",
       "</style>\n",
       "<table border=\"1\" class=\"dataframe\">\n",
       "  <thead>\n",
       "    <tr style=\"text-align: right;\">\n",
       "      <th></th>\n",
       "      <th>v1</th>\n",
       "      <th>v2</th>\n",
       "    </tr>\n",
       "  </thead>\n",
       "  <tbody>\n",
       "    <tr>\n",
       "      <th>3722</th>\n",
       "      <td>ham</td>\n",
       "      <td>We left already we at orchard now.</td>\n",
       "    </tr>\n",
       "    <tr>\n",
       "      <th>21</th>\n",
       "      <td>ham</td>\n",
       "      <td>IÛ÷m going to try for 2 months ha ha only joking</td>\n",
       "    </tr>\n",
       "    <tr>\n",
       "      <th>2193</th>\n",
       "      <td>ham</td>\n",
       "      <td>I called but no one pick up e phone. I ask bot...</td>\n",
       "    </tr>\n",
       "    <tr>\n",
       "      <th>5090</th>\n",
       "      <td>ham</td>\n",
       "      <td>St andre, virgil's cream</td>\n",
       "    </tr>\n",
       "    <tr>\n",
       "      <th>4512</th>\n",
       "      <td>spam</td>\n",
       "      <td>Money i have won wining number 946 wot do i do...</td>\n",
       "    </tr>\n",
       "    <tr>\n",
       "      <th>4899</th>\n",
       "      <td>spam</td>\n",
       "      <td>ou are guaranteed the latest Nokia Phone, a 40...</td>\n",
       "    </tr>\n",
       "    <tr>\n",
       "      <th>1108</th>\n",
       "      <td>ham</td>\n",
       "      <td>No you'll just get a headache trying to figure...</td>\n",
       "    </tr>\n",
       "    <tr>\n",
       "      <th>5001</th>\n",
       "      <td>ham</td>\n",
       "      <td>You still around? Looking to pick up later</td>\n",
       "    </tr>\n",
       "    <tr>\n",
       "      <th>1703</th>\n",
       "      <td>ham</td>\n",
       "      <td>Just taste fish curry :-P</td>\n",
       "    </tr>\n",
       "    <tr>\n",
       "      <th>3817</th>\n",
       "      <td>spam</td>\n",
       "      <td>74355 XMAS iscoming &amp; ur awarded either å£500 ...</td>\n",
       "    </tr>\n",
       "  </tbody>\n",
       "</table>\n",
       "</div>"
      ],
      "text/plain": [
       "        v1                                                 v2\n",
       "3722   ham                 We left already we at orchard now.\n",
       "21     ham  IÛ÷m going to try for 2 months ha ha only joking\n",
       "2193   ham  I called but no one pick up e phone. I ask bot...\n",
       "5090   ham                           St andre, virgil's cream\n",
       "4512  spam  Money i have won wining number 946 wot do i do...\n",
       "4899  spam  ou are guaranteed the latest Nokia Phone, a 40...\n",
       "1108   ham  No you'll just get a headache trying to figure...\n",
       "5001   ham         You still around? Looking to pick up later\n",
       "1703   ham                          Just taste fish curry :-P\n",
       "3817  spam  74355 XMAS iscoming & ur awarded either å£500 ..."
      ]
     },
     "execution_count": 11,
     "metadata": {},
     "output_type": "execute_result"
    }
   ],
   "source": [
    "df = pd.read_csv('C:\\\\Users\\\\SHEIKH RAAZ\\\\Downloads\\\\archive (3)\\\\spam.csv', delimiter=',',encoding='latin-1') #Call to the data\n",
    "df.drop(['Unnamed: 2', 'Unnamed: 3', 'Unnamed: 4'],axis=1,inplace=True) #Dropping not useable columns\n",
    "df.sample(10) #random 10 rows"
   ]
  },
  {
   "cell_type": "markdown",
   "id": "94f0ed89",
   "metadata": {},
   "source": [
    "# data Analysis"
   ]
  },
  {
   "cell_type": "code",
   "execution_count": 12,
   "id": "5491b78c",
   "metadata": {},
   "outputs": [
    {
     "name": "stdout",
     "output_type": "stream",
     "text": [
      "<class 'pandas.core.frame.DataFrame'>\n",
      "RangeIndex: 5572 entries, 0 to 5571\n",
      "Data columns (total 2 columns):\n",
      " #   Column  Non-Null Count  Dtype \n",
      "---  ------  --------------  ----- \n",
      " 0   v1      5572 non-null   object\n",
      " 1   v2      5572 non-null   object\n",
      "dtypes: object(2)\n",
      "memory usage: 87.2+ KB\n"
     ]
    }
   ],
   "source": [
    "df.info() #Info of Dataset"
   ]
  },
  {
   "cell_type": "markdown",
   "id": "c53c57b4",
   "metadata": {},
   "source": [
    "# Preprocessing"
   ]
  },
  {
   "cell_type": "code",
   "execution_count": 13,
   "id": "aecb211c",
   "metadata": {},
   "outputs": [],
   "source": [
    "df[\"v1\"] = (df[\"v1\"] == \"spam\").astype(int)"
   ]
  },
  {
   "cell_type": "code",
   "execution_count": 14,
   "id": "f1f67873",
   "metadata": {},
   "outputs": [],
   "source": [
    "x, y=df['v2'].values,df['v1'].values"
   ]
  },
  {
   "cell_type": "code",
   "execution_count": 15,
   "id": "6bed3047",
   "metadata": {},
   "outputs": [],
   "source": [
    "x = x.tolist()\n",
    "vectorizer = CountVectorizer()\n",
    "x = vectorizer.fit_transform(x)\n"
   ]
  },
  {
   "cell_type": "markdown",
   "id": "a66a2dc6",
   "metadata": {},
   "source": [
    "# SPLITTING"
   ]
  },
  {
   "cell_type": "code",
   "execution_count": 16,
   "id": "0ba23668",
   "metadata": {},
   "outputs": [],
   "source": [
    "train_x,test_x, train_y, test_y = train_test_split(x, y, test_size=0.2, random_state=2)"
   ]
  },
  {
   "cell_type": "markdown",
   "id": "0661a99c",
   "metadata": {},
   "source": [
    "# KNN"
   ]
  },
  {
   "cell_type": "code",
   "execution_count": 17,
   "id": "2484c905",
   "metadata": {},
   "outputs": [],
   "source": [
    "knn_model = KNeighborsClassifier()\n",
    "knn_model.fit(train_x, train_y)\n",
    "\n",
    "test_pre = knn_model.predict(test_x)"
   ]
  },
  {
   "cell_type": "markdown",
   "id": "41854b9b",
   "metadata": {},
   "source": [
    "# RESULTS"
   ]
  },
  {
   "cell_type": "code",
   "execution_count": 18,
   "id": "651b7561",
   "metadata": {},
   "outputs": [
    {
     "name": "stdout",
     "output_type": "stream",
     "text": [
      "              precision    recall  f1-score   support\n",
      "\n",
      "           0       0.91      1.00      0.95       957\n",
      "           1       1.00      0.39      0.56       158\n",
      "\n",
      "    accuracy                           0.91      1115\n",
      "   macro avg       0.95      0.69      0.75      1115\n",
      "weighted avg       0.92      0.91      0.90      1115\n",
      "\n"
     ]
    }
   ],
   "source": [
    "print(classification_report(test_y, test_pre))"
   ]
  },
  {
   "cell_type": "code",
   "execution_count": 19,
   "id": "3a02dd84",
   "metadata": {},
   "outputs": [
    {
     "data": {
      "image/png": "[encoded data removed]",
      "text/plain": [
       "<Figure size 640x480 with 2 Axes>"
      ]
     },
     "metadata": {},
     "output_type": "display_data"
    }
   ],
   "source": [
    "sns.heatmap(confusion_matrix(test_y, test_pre), annot=True)\n",
    "plt.show()"
   ]
  },
  {
   "cell_type": "code",
   "execution_count": null,
   "id": "e3e7b2b2",
   "metadata": {},
   "outputs": [],
   "source": []
  }
 ],
 "metadata": {
  "kernelspec": {
   "display_name": "Python 3 (ipykernel)",
   "language": "python",
   "name": "python3"
  },
  "language_info": {
   "codemirror_mode": {
    "name": "ipython",
    "version": 3
   },
   "file_extension": ".py",
   "mimetype": "text/x-python",
   "name": "python",
   "nbconvert_exporter": "python",
   "pygments_lexer": "ipython3",
   "version": "3.11.5"
  }
 },
 "nbformat": 4,
 "nbformat_minor": 5
}
